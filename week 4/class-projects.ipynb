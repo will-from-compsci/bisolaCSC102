{
 "cells": [
  {
   "cell_type": "code",
   "execution_count": 1,
   "metadata": {},
   "outputs": [],
   "source": [
    "#Project 1\n",
    "from openpyxl import Workbook, load_workbook\n",
    "sheet = Workbook()\n",
    "ws = sheet.active\n",
    "ws.title = \"Student_Table\"\n",
    "columns = [\"Name\",\"Age\",\"Height\",\"Scores\"]\n",
    "\n",
    "Ann = [\"Ann\", 14,  5.5, 80]\n",
    "Jane = [\"Jane\", 16, 6, 85]\n",
    "Joan = [\"Joan\", 14, 5.4, 70]\n",
    "Clare = [\"Clare\", 7, 5.9 , 60]\n",
    "Elizabeth = [\"Elizabeth\", 16, 5.6, 76]\n",
    "girls = [Ann, Jane, Joan, Clare, Elizabeth]\n",
    "\n",
    "Charles = [\"Charles\", 15, 5.7, 85]\n",
    "Jude = [\"Jude\", 16, 5.9, 74]\n",
    "James = [\"JAmes\", 16, 5.8, 87]\n",
    "Kelvin = [\"Kelvin\", 17, 6.1, 75]\n",
    "Prosper = [\"Prosper\", 14, 5.9, 8]\n",
    "boys = [Charles, Jude, James, Kelvin, Prosper]\n",
    "\n",
    "ws.append(columns)\n",
    "ws.append([\"girls\"])\n",
    "for girl in girls:\n",
    "    ws.append(girl)\n",
    "ws.append([\"boys\"])\n",
    "for boy in boys:\n",
    "    ws.append(boy)\n",
    "sheet.save(\"Week_4_Project.xlsx\")"
   ]
  },
  {
   "cell_type": "code",
   "execution_count": null,
   "metadata": {},
   "outputs": [],
   "source": []
  }
 ],
 "metadata": {
  "kernelspec": {
   "display_name": "Python 3",
   "language": "python",
   "name": "python3"
  },
  "language_info": {
   "codemirror_mode": {
    "name": "ipython",
    "version": 3
   },
   "file_extension": ".py",
   "mimetype": "text/x-python",
   "name": "python",
   "nbconvert_exporter": "python",
   "pygments_lexer": "ipython3",
   "version": "3.8.5"
  }
 },
 "nbformat": 4,
 "nbformat_minor": 4
}
