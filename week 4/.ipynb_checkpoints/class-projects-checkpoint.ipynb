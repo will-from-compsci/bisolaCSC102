{
 "cells": [
  {
   "cell_type": "code",
   "execution_count": 4,
   "metadata": {},
   "outputs": [
    {
     "name": "stdout",
     "output_type": "stream",
     "text": [
      "14\n"
     ]
    }
   ],
   "source": [
    "#Project 1\n",
    "Ann = {\"Age\": 14, \"Height\": 5.5, \"Score\": 80}\n",
    "Jane = {\"Age\": 16, \"Height\": 6, \"Score\": 85}\n",
    "Joan = {\"Age\": 14, \"Height\": 5.4, \"Score\": 70}\n",
    "Clare = {\"Age\": 17, \"Height\":5.9 , \"Score\": 60}\n",
    "Elizabeth = {\"Age\": 16, \"Height\": 5.6, \"Score\": 76}\n",
    "girls = [Ann, Jane, Joan, Clare, Elizabeth]\n",
    "\n",
    "Charles = {\"Age\": 15, \"Height\": 5.7, \"Score\": 85}\n",
    "Jude = {\"Age\": 16, \"Height\": 5.9, \"Score\": 74}\n",
    "James = {\"Age\": 16, \"Height\": 5.8, \"Score\": 87}\n",
    "Kelvin = {\"Age\": 17, \"Height\": 6.1, \"Score\": 75}\n",
    "Prosper = {\"Age\": 14, \"Height\": 5.9, \"Score\": 68}\n",
    "boys = [Charles, Jude, James, Kelvin, Prosper]"
   ]
  },
  {
   "cell_type": "code",
   "execution_count": null,
   "metadata": {},
   "outputs": [],
   "source": []
  }
 ],
 "metadata": {
  "kernelspec": {
   "display_name": "Python 3",
   "language": "python",
   "name": "python3"
  },
  "language_info": {
   "codemirror_mode": {
    "name": "ipython",
    "version": 3
   },
   "file_extension": ".py",
   "mimetype": "text/x-python",
   "name": "python",
   "nbconvert_exporter": "python",
   "pygments_lexer": "ipython3",
   "version": "3.8.5"
  }
 },
 "nbformat": 4,
 "nbformat_minor": 4
}
