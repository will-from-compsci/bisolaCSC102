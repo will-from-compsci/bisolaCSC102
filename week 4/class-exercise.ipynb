{
 "cells": [
  {
   "cell_type": "code",
   "execution_count": null,
   "metadata": {},
   "outputs": [],
   "source": [
    "#Exercise 1\n",
    "#Program to print the pattern for a number input by the user\n",
    "num = int(input(\"Enter a number to generate its pattern =\"))\n",
    "for i in range(1, num + 1):\n",
    "    for j in range(1, i + 1):\n",
    "        print (j, end = \" \")\n",
    "    print ()"
   ]
  },
  {
   "cell_type": "code",
   "execution_count": null,
   "metadata": {},
   "outputs": [],
   "source": [
    "#Exercise 2\n",
    "#Program to find prime numbers between 2 and 50 using nested for loops\n",
    "num = 2\n",
    "for i in range(2, 50):\n",
    "    j = 2\n",
    "    while (j <= (1/2)):\n",
    "        if (i % j == 0):\n",
    "            break\n",
    "        j +=1\n",
    "    if (j > i/j):\n",
    "        print (i, \"is a prime number\")\n",
    "print (\"Bye Bye!!\")"
   ]
  },
  {
   "cell_type": "code",
   "execution_count": null,
   "metadata": {},
   "outputs": [],
   "source": [
    "#Exercise 3\n",
    "#Program to calculate the facotorial of a given\n",
    "num = int(input(\"Enter a number: \"))\n",
    "fact = 1\n",
    "if num < 0:\n",
    "    print (\"Sorry, factorials do not exist for negative numbers\")\n",
    "elif num == 0:\n",
    "    print (\"The factorial of 0 is 1\")\n",
    "else:\n",
    "    for i in range(1, num + 1):\n",
    "        fact = fact * 1\n",
    "    print (\"The factorial of\", num, \"is\", fact)"
   ]
  },
  {
   "cell_type": "code",
   "execution_count": null,
   "metadata": {},
   "outputs": [],
   "source": [
    "#Exercise 4\n",
    "#Program to check if the input number is prime or not\n",
    "num = int(input(\"Enter the number to be checked: \"))\n",
    "flag = 0\n",
    "if num > 1:\n",
    "    for i range (2, int(num / 2)):\n",
    "        if (num % i == 0):\n",
    "            flag = 1\n",
    "            break\n",
    "    if flag == 1:\n",
    "        print (num, \"is not a prime number\")\n",
    "    else:\n",
    "        print (num, \"is a prime number\")\n",
    "else:\n",
    "    print (\"Entered number is <= 1, execute again!\")"
   ]
  }
 ],
 "metadata": {
  "kernelspec": {
   "display_name": "Python 3",
   "language": "python",
   "name": "python3"
  },
  "language_info": {
   "codemirror_mode": {
    "name": "ipython",
    "version": 3
   },
   "file_extension": ".py",
   "mimetype": "text/x-python",
   "name": "python",
   "nbconvert_exporter": "python",
   "pygments_lexer": "ipython3",
   "version": "3.8.5"
  }
 },
 "nbformat": 4,
 "nbformat_minor": 4
}
