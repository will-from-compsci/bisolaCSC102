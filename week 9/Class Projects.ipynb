{
 "cells": [
  {
   "cell_type": "markdown",
   "metadata": {},
   "source": [
    "## Class Project 1\n",
    "One of the key issue that have threatened organizations and institutions is that of logistics. To solve it, employers now use biometric softwares and computer vision enabled tools to verify identities of their employees and take attendance. Mrs. Jane runs a delivery business with 15 employees, but she would want a way to identify if a user is one of her employees, take attendance and assign a task to the employee for the day. \n",
    "\n",
    "Employees = \"Mary Evans\", \"Eyo Ishan\", \"Durojaiye Dare\", \"Adams Ali\", \"Andrew Ugwu\", \"Stella Mankinde\", \"Jane Akibo\", \"Ago James\", \"Michell Taiwo\", \"Abraham Jones\" , \"Nicole Anide\", \"Kosi Korso\", \"Adele Martins\", \"Emmanuel Ojo\", \"Ajayi Fatima\".\n",
    "\n",
    "Tasks = \"Loading\", \"Transporting\", \"Reveiwing Orders\", \"Customer Service\", \"Delivering Items\"\n",
    "\n",
    "Your mission, should you choose to accept it, is to develop python program using your knowledge in OOP (class and objects) that takes a user's name and check if he/she exists in the list of employees, take attendance for the day and assign a task to the employess … otherwise, you politely refuse access to the system.\n",
    "\n",
    "<b>Hint:</b>\n",
    "\n",
    "<ol><li>Build a class <b>Employee()</b> that has four methods in the class; <b>check_employee()</b>, <b>take_attendance()</b>, <b>assign_task()</b> and <b>refuse_access()</b>.</li><li>\n",
    "    You can <b>import random</b> module and use the <b>random.randint()</b> method to randomly select task from the list. </li></ol>\n"
   ]
  },
  {
   "cell_type": "code",
   "execution_count": 26,
   "metadata": {},
   "outputs": [
    {
     "name": "stdout",
     "output_type": "stream",
     "text": [
      "What is your nameEyo\n",
      "You do not have access to the system, Eyo\n",
      "The number of employees present is: 0\n"
     ]
    }
   ],
   "source": [
    "import random\n",
    "class Employee:\n",
    "    Employees = [\"Mary Evans\", \"Eyo Ishan\", \"Durojaiye Dare\", \"Adams Ali\", \"Andrew Ugwu\", \"Stella Mankinde\", \"Jane Akibo\", \"Ago James\", \n",
    "                 \"Michell Taiwo\", \"Abraham Jones\" , \"Nicole Anide\", \"Kosi Korso\", \"Adele Martins\", \"Emmanuel Ojo\", \"Ajayi Fatima\"]\n",
    "    Tasks = [\"Loading\", \"Transporting\", \"Reveiwing Orders\", \"Customer Service\", \"Delivering Items\"]\n",
    "    count = 0\n",
    "    \n",
    "    def __init__(self,name):\n",
    "        # constructors\n",
    "        self.name = name\n",
    "        \n",
    "    def check_employee(self):\n",
    "        if self.name in self.Employees:\n",
    "            print (\"Hello,\", self.name)\n",
    "    \n",
    "    def take_attendance(self):\n",
    "        # taking attendance by adding 1 for each employee\n",
    "        if self.name in self.Employees:\n",
    "            Employee.count += 1\n",
    "        \n",
    "    def assign_task(self):\n",
    "        # picks a random task from the list of tasks\n",
    "        if self.name in self.Employees:\n",
    "            self.task = random.choice(self.Tasks)\n",
    "            print(self.name, \"your job is to\", self.task)\n",
    "    \n",
    "    def refuse_access(self):\n",
    "        if self.name not in self.Employees:\n",
    "            print (\"You do not have access to the system,\", self.name)\n",
    "\n",
    "            \n",
    "employee = Employee(str(input(\"What is your name\")))\n",
    "employee.check_employee()\n",
    "employee.refuse_access()\n",
    "employee.take_attendance()\n",
    "employee.assign_task()\n",
    "print('The number of employees present is:', employee.count)"
   ]
  },
  {
   "cell_type": "code",
   "execution_count": null,
   "metadata": {},
   "outputs": [],
   "source": [
    "#list of employees\n",
    "employee1 = Employee(\"Mary Evans\")\n",
    "employee2 = Employee(\"Eyo Ishan\")\n",
    "employee3 = Employee(\"Durojaiye Dare\")\n",
    "employee4 = Employee(\"Adams Ali\")\n",
    "employee5 = Employee(\"Andrew Ugwu\")\n",
    "employee6 = Employee(\"Stella Mankinde\")\n",
    "employee7 = Employee(\"Jane Akibo\")\n",
    "employee8 = Employee(\"Ago James\")\n",
    "employee9 = Employee(\"Michell Taiwo\")\n",
    "employee10 = Employee(\"Abraham Jones\")\n",
    "employee11 = Employee(\"Nicole Anide\")\n",
    "employee12 = Employee(\"Kosi Korso\")\n",
    "employee13 = Employee(\"Adele Martins\")\n",
    "employee14 = Employee(\"Emmanuel Ojo\")\n",
    "employee15 = Employee(\"Ajayi Fatima\")\n",
    "\n",
    "#list of tasks\n",
    "1 = \"Loading\"\n",
    "2 = \"Transporting\"\n",
    "3 = \"Reveiwing Orders\"\n",
    "4 = \"Customer Service\"\n",
    "5 = \"Delivering Items\"\n",
    "\n",
    "employee = Employee(str(input(\"What is your name\")))"
   ]
  },
  {
   "cell_type": "markdown",
   "metadata": {},
   "source": [
    "## Class Project 2\n",
    "You run a delivery service, and charge people based on their location and weight of their package. The following are some of the things you consider.\n",
    "\n",
    "You charge N2000, whenever you are delivering a package with weight of 10kg and above to PAU, and N1500 when it is less.\n",
    "However, you charge N5000 whenever you deliver to Epe, a package with weight of 10kg and above, and N4000 when it is less.\n",
    "\n",
    "Develop the python program using your knowledge in OOP, that tells a user how much to pay, based on their location, and package weight. \n"
   ]
  },
  {
   "cell_type": "code",
   "execution_count": null,
   "metadata": {},
   "outputs": [],
   "source": [
    "class service:\n",
    "    \n",
    "    def location(self)\n",
    "    def weight(self)\n",
    "    def charge(self)"
   ]
  },
  {
   "cell_type": "code",
   "execution_count": null,
   "metadata": {},
   "outputs": [],
   "source": []
  }
 ],
 "metadata": {
  "kernelspec": {
   "display_name": "Python 3",
   "language": "python",
   "name": "python3"
  },
  "language_info": {
   "codemirror_mode": {
    "name": "ipython",
    "version": 3
   },
   "file_extension": ".py",
   "mimetype": "text/x-python",
   "name": "python",
   "nbconvert_exporter": "python",
   "pygments_lexer": "ipython3",
   "version": "3.8.5"
  }
 },
 "nbformat": 4,
 "nbformat_minor": 4
}
