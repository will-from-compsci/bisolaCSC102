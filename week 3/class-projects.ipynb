{
 "cells": [
  {
   "cell_type": "markdown",
   "metadata": {},
   "source": [
    "## Name: Akinkugbe Bisola\n",
    "## Matriculation number: 21120612556\n",
    "## E-mail: bisola.akinkugbe@pau.edu.ng"
   ]
  },
  {
   "cell_type": "markdown",
   "metadata": {},
   "source": [
    "## Project 1 Algorithm\n",
    "![Project 1](project1.png) \n",
    "<br>BEGIN\n",
    "<br>INPUT number\n",
    "<br>IF number < 17:\n",
    "    <br>DECLARE ans = 17 - number\n",
    "    <br>COMPUTE ans\n",
    "    <br>DISPLAY \"The answer is ans\"\n",
    "    <br>ENDIF\n",
    "<br>IF number > 17:\n",
    "    <br>DECLARE ans = 2 * (number - 17)\n",
    "    <br>COMPUTE ans\n",
    "    <br>DISPLAY \"The answer is ans\"\n",
    "    <br>ENDIF\n",
    "<br>END"
   ]
  },
  {
   "cell_type": "code",
   "execution_count": 10,
   "metadata": {},
   "outputs": [
    {
     "name": "stdout",
     "output_type": "stream",
     "text": [
      "What is the number?19\n",
      "The answer is 4\n"
     ]
    }
   ],
   "source": [
    "# Project 1\n",
    "# Program to get the difference between a given number and 17, and if the number is greater than 17, return double the absolute difference\n",
    "number = int(input(\"What is the number?\"))\n",
    "if number < 17:\n",
    "    print (\"The answer is\", 17 - number)\n",
    "elif number > 17:\n",
    "    print (\"The answer is\", ((number - 17) * 2))"
   ]
  },
  {
   "cell_type": "markdown",
   "metadata": {},
   "source": [
    "## Project 2 Algorithm\n",
    "![Project 2](project2.png)\n",
    "<br>BEGIN\n",
    "<br>INPUT num1, num2, num3\n",
    "<br>IF num1 == num2 == num3:\n",
    "    <br>COMPUTER answer = (num1 + num2 + num3) * 3\n",
    "    <br>DISPLAY \"The answer is answer\"\n",
    "    <br>ENDIF\n",
    "<br>ELSE:\n",
    "    <br>answer = num1 + num2 + num3\n",
    "    <br>DISPLAY \"The answer is answer\"\n",
    "<br>END\n",
    "    "
   ]
  },
  {
   "cell_type": "code",
   "execution_count": 13,
   "metadata": {},
   "outputs": [
    {
     "name": "stdout",
     "output_type": "stream",
     "text": [
      "What is the 1st number?1\n",
      "What is the 2nd number?2\n",
      "What is the 3rd number?3\n",
      "The answer is 6\n"
     ]
    }
   ],
   "source": [
    "# Project 2\n",
    "# Program to calculate the sum of three given numbers, if the values are equal then return thrice of their sum \n",
    "num1 = int(input(\"What is the 1st number?\"))\n",
    "num2 = int(input(\"What is the 2nd number?\"))\n",
    "num3 = int(input(\"What is the 3rd number?\"))\n",
    "if num1 == num2 == num3:\n",
    "    answer = (num1 + num2 + num3) * 3\n",
    "else:\n",
    "    answer = num1 + num2 + num3\n",
    "print (\"The answer is\", answer)"
   ]
  },
  {
   "cell_type": "markdown",
   "metadata": {},
   "source": [
    "## Project 3 Algorithm\n",
    "![Project 3](project3.png)\n",
    "<br>BEGIN\n",
    "<br>INPUT num1, num2\n",
    "<br>IF num1 = num2:\n",
    "    <br>DISPLAY \"True\"\n",
    "    <br>ELSE IF num1 - num2 = 5:\n",
    "        <br>DISPLAY \"True\"\n",
    "        <br>ELSE IF num1 + num2 = 5:\n",
    "            <br>DISPLAY \"True\"\n",
    "            <br>ELSE:\n",
    "                <br>DISPLAY \"False\"\n",
    "<br>END\n",
    "            "
   ]
  },
  {
   "cell_type": "code",
   "execution_count": 34,
   "metadata": {},
   "outputs": [
    {
     "name": "stdout",
     "output_type": "stream",
     "text": [
      "What is the 1st number?4\n",
      "What is the 2nd number?4\n",
      "True\n"
     ]
    }
   ],
   "source": [
    "# Project 3\n",
    "# Program which will return true if the two given integer values are equal or their sum or difference is 5\n",
    "num1 = int(input(\"What is the 1st number?\"))\n",
    "num2 = int(input(\"What is the 2nd number?\"))\n",
    "if num1 == num2:\n",
    "    print (\"True\")\n",
    "else:\n",
    "    if num1 - num2 == 5:\n",
    "        print (\"True\")\n",
    "    else:\n",
    "        if num1 + num2 == 5:\n",
    "            print (\"True\")\n",
    "        else:\n",
    "            print (\"False\")"
   ]
  },
  {
   "cell_type": "markdown",
   "metadata": {},
   "source": [
    "## Project 4 Algorithm\n",
    "![Project 4](project4.png)\n",
    "<br>BEGIN\n",
    "<br>INPUT num1, num2, num3\n",
    "<br>DETERMINE biggest\n",
    "<br>DETERMINE smallest\n",
    "<br>DECLARE middle = num1 + num2 + num3 - biggest - smallest\n",
    "<br>DISPLAY \"The order is smallest, middle, biggest\" \n",
    "<br>END"
   ]
  },
  {
   "cell_type": "code",
   "execution_count": 39,
   "metadata": {},
   "outputs": [
    {
     "name": "stdout",
     "output_type": "stream",
     "text": [
      "What is the 1st number?1\n",
      "What is the 2nd number?2\n",
      "What is the 3rd number?3\n",
      "The order is 1 2 3\n"
     ]
    }
   ],
   "source": [
    "# Project 4\n",
    "# Program to sort three integers without using conditional statements and loops\n",
    "num1 = int(input(\"What is the 1st number?\"))\n",
    "num2 = int(input(\"What is the 2nd number?\"))\n",
    "num3 = int(input(\"What is the 3rd number?\"))\n",
    "biggest = max(num1, num2, num3)\n",
    "smallest = min(num1, num2, num3)\n",
    "middle = num1 + num2 + num3 - biggest - smallest\n",
    "print (\"The order is\", smallest, middle, biggest)"
   ]
  },
  {
   "cell_type": "markdown",
   "metadata": {},
   "source": [
    "## Project 5 Algorithm\n",
    "![Project 5](project5.png)\n",
    "<br>BEGIN\n",
    "<br>DECLARE sumlist = []\n",
    "<br>INPUT number\n",
    "<br>IF number > 1:\n",
    "    <br>REPEAT number - 1\n",
    "    <br>UNTIL number = 1\n",
    "<br>COMPUTE cube = number^3\n",
    "<br>DISPLAY cube\n",
    "<br>APPEND cube into a list or set\n",
    "<br>DISPLAY the sum of the cubes\n",
    "<br>END"
   ]
  },
  {
   "cell_type": "code",
   "execution_count": 4,
   "metadata": {},
   "outputs": [
    {
     "name": "stdout",
     "output_type": "stream",
     "text": [
      "What is the number?14\n",
      "2197\n",
      "2197\n",
      "1728\n",
      "3925\n",
      "1331\n",
      "5256\n",
      "1000\n",
      "6256\n",
      "729\n",
      "6985\n",
      "512\n",
      "7497\n",
      "343\n",
      "7840\n",
      "216\n",
      "8056\n",
      "125\n",
      "8181\n",
      "64\n",
      "8245\n",
      "27\n",
      "8272\n",
      "8\n",
      "8280\n",
      "1\n",
      "8281\n"
     ]
    }
   ],
   "source": [
    "# Project 5\n",
    "# Program that takes a positive integer and returns the sum of the cube of all the positive integers smaller than the specified number.\n",
    "sumlist = [] \n",
    "number = int(input(\"What is the number?\"))\n",
    "while number > 1:\n",
    "    number -= 1\n",
    "    cube = (number**3)\n",
    "    print (cube)\n",
    "    sumlist.append(cube)\n",
    "    print (sum(sumlist))"
   ]
  }
 ],
 "metadata": {
  "kernelspec": {
   "display_name": "Python 3",
   "language": "python",
   "name": "python3"
  },
  "language_info": {
   "codemirror_mode": {
    "name": "ipython",
    "version": 3
   },
   "file_extension": ".py",
   "mimetype": "text/x-python",
   "name": "python",
   "nbconvert_exporter": "python",
   "pygments_lexer": "ipython3",
   "version": "3.8.5"
  }
 },
 "nbformat": 4,
 "nbformat_minor": 4
}
