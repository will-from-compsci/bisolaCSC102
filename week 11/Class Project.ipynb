{
 "cells": [
  {
   "cell_type": "markdown",
   "metadata": {},
   "source": [
    "## Class Project I "
   ]
  },
  {
   "cell_type": "markdown",
   "metadata": {},
   "source": [
    "You have been contracted by the Registrar of Pan-Atlantic University (PAU) as an expert OOP developer to access the Student Information System (SIS) of PAU Student Council, inorder to classify the students grades, according to their age, into 3 categories; the pirates, the yankees and the bulls.\n",
    "\n",
    "Should you choose to accept this task, develop an OOP program that reads data from the sis.csv file as attached, following the instructions below: \n",
    "\n",
    "<b>Instructions:</b>\n",
    "    <ul><li>If the student age is greater than 14 and less than 18, create a .csv file for that category called <b>The_Pirates</b> and display it.</li><li>\n",
    "    If the student age is greater than 18 and less than 22, create a file for that category called <b>The_Yankees</b> and display it.</li><li>\n",
    "    If the student age is greater than 22 create a file for that category called <b>The_Bulls</b> and display it.</li></ul>\n"
   ]
  },
  {
   "cell_type": "code",
   "execution_count": null,
   "metadata": {
    "scrolled": true
   },
   "outputs": [],
   "source": [
    "import pandas as pd\n",
    "data = pd.read_csv(\"sis.csv\")\n",
    "df = pd.DataFrame(data)\n",
    "\n",
    "class SIS:\n",
    "    # No variables are intialized\n",
    "    def check_age(self):\n",
    "        # For loop to iterate through the tuple of students and ages\n",
    "        for i in range(len(df.Age)):\n",
    "            if (df.Age[i] < 18 and df.Age[i] > 14):\n",
    "                kids = {'Name': df.Name[i],\n",
    "                        'Age': df.Age[i]}\n",
    "                kidsdf = pd.DataFrame(kids, index = [i])\n",
    "                kidsdf.to_csv('The_Pirates.csv')\n",
    "            elif (df.Age[i] < 22 and df.Age[i] > 18):\n",
    "                kids = {'Name': df.Name[i],\n",
    "                        'Age': df.Age[i]}\n",
    "                kidsdf = pd.DataFrame(kids, index = [i])\n",
    "                kidsdf.to_csv('The_Yankees.csv')\n",
    "            elif (df.Age[i] > 22):\n",
    "                kids = {'Name': df.Name[i],\n",
    "                        'Age': df.Age[i]}\n",
    "                kidsdf = pd.DataFrame(kids, index = [i])\n",
    "                kidsdf.to_csv('The_Bulls.csv')\n",
    "            else:\n",
    "                pass\n",
    "student = SIS()\n",
    "student.check_age()"
   ]
  },
  {
   "cell_type": "code",
   "execution_count": null,
   "metadata": {},
   "outputs": [],
   "source": [
    "import pandas as pd\n",
    "data = pd.read_csv(\"sis.csv\")\n",
    "df = pd.DataFrame(data)\n",
    "\n",
    "class SIS:\n",
    "    # No variables are intialized\n",
    "    def check_age(self):\n",
    "                pass\n",
    "class Pirates(SIS):\n",
    "    def check_age(self):\n",
    "        for i in range(len(df.Age)):\n",
    "            if df.Age[i] < 18 and df.Age[i] > 14:\n",
    "                kids = {'Name': df.Name[i],\n",
    "                        'Age': df.Age[i]}\n",
    "                kidsdf = pd.DataFrame(kids, index=[0,1,2,3,4,5,6,7])\n",
    "                kidsdf.to_csv('The_Pirates.csv')\n",
    "            else:\n",
    "                pass\n",
    "class Yankees(SIS):\n",
    "    def check_age(self):\n",
    "        for i in range(len(df.Age)):\n",
    "            if df.Age[i] < 22 and df.Age[i] > 18:\n",
    "                kids = {'Name': df.Name[i],\n",
    "                        'Age': df.Age[i]}\n",
    "                kidsdf = pd.DataFrame(kids, index=[0,1,2,3,4,5,6])\n",
    "                kidsdf.to_csv('The_Yankees.csv')\n",
    "            else:\n",
    "                pass\n",
    "class Bulls(SIS):\n",
    "    def check_age(self):\n",
    "        for i in range(len(df.Age)):\n",
    "            if df.Age[i] > 22:\n",
    "                kids = {'Name': df.Name[i],\n",
    "                        'Age': df.Age[i]}\n",
    "                kidsdf = pd.DataFrame(kids,index=[0,1,2,3,4,5])\n",
    "                kidsdf.to_csv('The_Bulls.csv')\n",
    "            else:\n",
    "                pass\n",
    "student_pirates = Pirates()\n",
    "student_yankees = Yankees()\n",
    "student_bulls = Bulls()\n",
    "for student in (student_pirates,student_yankees,student_bulls):\n",
    "    student.check_age()"
   ]
  },
  {
   "cell_type": "code",
   "execution_count": null,
   "metadata": {},
   "outputs": [],
   "source": [
    "import pandas as pd\n",
    "data = pd.read_csv(\"sis.csv\")\n",
    "df = pd.DataFrame(data)\n",
    "\n",
    "class SIS:\n",
    "    # No variables are intialized\n",
    "    def check_age(self):\n",
    "        # For loop to iterate through the tuple of students and ages\n",
    "        for i in range(len(df.Age)):\n",
    "            if (df.Age[i] < 18 and df.Age[i] > 14):\n",
    "                kids = {'Name': df.Name[i],\n",
    "                        'Age': df.Age[i]}\n",
    "                print(kids)\n",
    "            if (df.Age[i] < 22 and df.Age[i] > 18):\n",
    "                kids = {'Name': df.Name[i],\n",
    "                        'Age': df.Age[i]}\n",
    "                print(kids)\n",
    "            if (df.Age[i] > 22):\n",
    "                kids = {'Name': df.Name[i],\n",
    "                        'Age': df.Age[i]}\n",
    "                print(kids)\n",
    "            else:\n",
    "                pass\n",
    "student = SIS()\n",
    "student.check_age()"
   ]
  },
  {
   "cell_type": "code",
   "execution_count": null,
   "metadata": {},
   "outputs": [],
   "source": []
  }
 ],
 "metadata": {
  "kernelspec": {
   "display_name": "Python 3",
   "language": "python",
   "name": "python3"
  },
  "language_info": {
   "codemirror_mode": {
    "name": "ipython",
    "version": 3
   },
   "file_extension": ".py",
   "mimetype": "text/x-python",
   "name": "python",
   "nbconvert_exporter": "python",
   "pygments_lexer": "ipython3",
   "version": "3.8.5"
  }
 },
 "nbformat": 4,
 "nbformat_minor": 4
}
