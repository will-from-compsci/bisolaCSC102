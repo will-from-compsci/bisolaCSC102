{
 "cells": [
  {
   "cell_type": "code",
   "execution_count": 49,
   "metadata": {},
   "outputs": [
    {
     "name": "stdout",
     "output_type": "stream",
     "text": [
      "What is the word?pe\n",
      "How many forbidden letters are there?1\n",
      "What are the forbidden letters?e\n",
      "The word contains forbidden letters.\n"
     ]
    }
   ],
   "source": [
    "#Project 1\n",
    "def avoids(word):\n",
    "    #Empty list to print the letters into\n",
    "    forbidden = []\n",
    "    many = int(input(\"How many forbidden letters are there?\"))\n",
    "    #While loop to allow a reducing number of inputs\n",
    "    \n",
    "    while many > 0:\n",
    "        fword = str(input(\"What are the forbidden letters?\"))\n",
    "        many -= 1\n",
    "    forbidden.append(fword)\n",
    "    \n",
    "    #Checks if the forbidden letters are in the word\n",
    "    if fword in word:\n",
    "        print(\"The word contains forbidden letters.\")\n",
    "    elif fword not in word:\n",
    "        print(word)\n",
    "        print(True)\n",
    "        \n",
    "avoids(word = str(input(\"What is the word?\")))"
   ]
  },
  {
   "cell_type": "code",
   "execution_count": 62,
   "metadata": {
    "scrolled": true
   },
   "outputs": [
    {
     "name": "stdout",
     "output_type": "stream",
     "text": [
      "What is the word?yeah\n",
      "How many required letters are there?2\n",
      "What are the required letters?e\n",
      "What are the required letters?a\n",
      "['e', 'a']\n",
      "['y', 'e', 'a', 'h']\n",
      "The word does not contain all the required letters.\n"
     ]
    }
   ],
   "source": [
    "#Project 2\n",
    "def uses_all(word):\n",
    "    #Empty list to print the letters into\n",
    "    letters = []\n",
    "    many = int(input(\"How many required letters are there?\"))\n",
    "    #While loop to allow a reducing number of inputs\n",
    "    \n",
    "    while many > 0:\n",
    "        rword = str(input(\"What are the required letters?\"))\n",
    "        many -= 1\n",
    "        letters.append(rword)\n",
    "    #Delete later. Its just to check which letters are required\n",
    "    print(letters)\n",
    "    wordlist = list(word)\n",
    "    #Delete later. Its just to check if the word is separated into a list\n",
    "    print(wordlist)\n",
    "    \n",
    "    #Checks if all the required letters are in the word\n",
    "    if letters in wordlist or letters == wordlist:\n",
    "        print(word)\n",
    "        print(True)\n",
    "    elif letters not in wordlist:\n",
    "        print(\"The word does not contain all the required letters.\")\n",
    "        \n",
    "uses_all(word = str(input(\"What is the word?\")))"
   ]
  },
  {
   "cell_type": "code",
   "execution_count": 66,
   "metadata": {},
   "outputs": [
    {
     "name": "stdout",
     "output_type": "stream",
     "text": [
      "What did Jane declare?Odd\n",
      "What did Jack declare?Odd\n",
      "How many fingers did Jane extend?2\n",
      "How many fingers did Jack extend?2\n",
      "1,2,3\n",
      "They both lost\n"
     ]
    }
   ],
   "source": [
    "#Project 3\n",
    "#Jane and Jack's initial declarations\n",
    "dec_jane = str(input(\"What did Jane declare?\"))\n",
    "dec_jack = str(input(\"What did Jack declare?\"))\n",
    "\n",
    "#The number of fingers they each extended\n",
    "fingers_jane = int(input(\"How many fingers did Jane extend?\"))\n",
    "fingers_jack = int(input(\"How many fingers did Jack extend?\"))\n",
    "\n",
    "#Countdown\n",
    "print(\"1,2,3\")\n",
    "sum = fingers_jane + fingers_jack\n",
    "\n",
    "#Checks if the sum of their fingers is even or odd\n",
    "if sum%2 == 0:\n",
    "    sum = \"Even\"\n",
    "elif sum%2 == 1:\n",
    "    sum = \"Odd\"\n",
    "\n",
    "if dec_jane and dec_jack == sum:\n",
    "    print(\"They both won\")\n",
    "elif dec_jane == sum:\n",
    "    print(\"The winner is Jane\")\n",
    "elif dec_jack == sum:\n",
    "    print(\"The winner is Jack\")\n",
    "else:\n",
    "    print(\"They both lost\")"
   ]
  },
  {
   "cell_type": "code",
   "execution_count": 43,
   "metadata": {},
   "outputs": [
    {
     "name": "stdout",
     "output_type": "stream",
     "text": [
      "What is the distance?2\n",
      "What is the time?4\n",
      "The speed of the car is 0.5 miles/hour.\n"
     ]
    }
   ],
   "source": [
    "#Project 4\n",
    "distance = int(input(\"What is the distance?\"))\n",
    "time = int(input(\"What is the time?\"))\n",
    "speed = distance/time\n",
    "print(\"The speed of the car is\", speed, \"miles/hour.\")"
   ]
  },
  {
   "cell_type": "code",
   "execution_count": null,
   "metadata": {},
   "outputs": [],
   "source": []
  }
 ],
 "metadata": {
  "kernelspec": {
   "display_name": "Python 3",
   "language": "python",
   "name": "python3"
  },
  "language_info": {
   "codemirror_mode": {
    "name": "ipython",
    "version": 3
   },
   "file_extension": ".py",
   "mimetype": "text/x-python",
   "name": "python",
   "nbconvert_exporter": "python",
   "pygments_lexer": "ipython3",
   "version": "3.8.5"
  }
 },
 "nbformat": 4,
 "nbformat_minor": 4
}
